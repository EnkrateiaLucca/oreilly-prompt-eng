{
 "cells": [
  {
   "cell_type": "markdown",
   "metadata": {},
   "source": [
    "# REDO THIS EXERCISE IN THE MODERN FRAMEWORK"
   ]
  },
  {
   "cell_type": "code",
   "execution_count": null,
   "metadata": {},
   "outputs": [],
   "source": [
    "\n",
    "import openai\n",
    "\n",
    "# Set your OpenAI API key here\n",
    "openai.api_key = 'your-api-key'\n",
    "\n",
    "# Zero-Shot Learning\n",
    "# In zero-shot learning, the model is given a task it has never seen and must attempt to complete it correctly without any explicit examples.\n",
    "# The prompt should clearly state the task and expect the model to generate an answer based solely on its pre-trained knowledge.\n",
    "zero_shot_prompt = \"Translate the following English text to French: 'Hello, how are you?'\"\n",
    "\n",
    "# Sending the zero-shot prompt to OpenAI's API\n",
    "zero_shot_response = openai.Completion.create(\n",
    "    engine=\"text-davinci-002\",  # Specify the model, update if using a newer one\n",
    "    prompt=zero_shot_prompt,\n",
    "    max_tokens=60\n",
    ")\n",
    "\n",
    "print(\"Zero-Shot Translation:\", zero_shot_response['choices'][0]['text'].strip())\n",
    "\n",
    "# Few-Shot Learning\n",
    "# In few-shot learning, the model is given a few examples to \"learn\" from before being asked to perform a task.\n",
    "# This helps the model understand the context and the expected output format.\n",
    "few_shot_prompt = \"\"\"English: I love learning new things.\n",
    "French: J'aime apprendre de nouvelles choses.\n",
    "English: What is your name?\n",
    "French: Comment vous appelez-vous?\n",
    "English: This is a test.\n",
    "French: C'est un test.\n",
    "English: Let's try something new.\n",
    "French: \"\"\"\n",
    "\n",
    "# Sending the few-shot prompt to OpenAI's API\n",
    "few_shot_response = openai.Completion.create(\n",
    "    engine=\"text-davinci-002\",  # Specify the model, update if using a newer one\n",
    "    prompt=few_shot_prompt,\n",
    "    max_tokens=60\n",
    ")\n",
    "\n",
    "print(\"Few-Shot Response:\", few_shot_response['choices'][0]['text'].strip())\n"
   ]
  }
 ],
 "metadata": {
  "kernelspec": {
   "display_name": "oreilly-prompt-eng",
   "language": "python",
   "name": "oreilly-prompt-eng"
  },
  "language_info": {
   "name": "python",
   "version": "3.10.14"
  }
 },
 "nbformat": 4,
 "nbformat_minor": 2
}
