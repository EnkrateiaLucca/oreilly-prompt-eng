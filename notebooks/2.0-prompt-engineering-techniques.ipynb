{
 "cells": [
  {
   "cell_type": "markdown",
   "metadata": {},
   "source": [
    "# Prompt Engineering Guide\n",
    "\n",
    "What is prompt engineering?\n",
    "\n",
    "Prompt engineering is a reference to a discipline concerned with stablishing the rules for obtaining the most deterministic outputs possible from a LLM by employing engineering techniques and protocols to enture reproducibility and consistency.\n",
    "\n",
    "***In a simplified way, prompt engineering is the means by which LLMs can be programmed through prompting.***"
   ]
  },
  {
   "cell_type": "markdown",
   "metadata": {},
   "source": [
    "The basic goal of prompt engineering is designing appropriate inputs for prompting methods."
   ]
  },
  {
   "cell_type": "markdown",
   "metadata": {},
   "source": [
    "# Practical Template for Prompt Engineering"
   ]
  },
  {
   "cell_type": "markdown",
   "metadata": {},
   "source": [
    "- Stablish a concrete and atomic task\n",
    "- Define a set of prompt candidates\n",
    "- Define a clear metric for evaluation\n",
    "- Test\n",
    "- Evaluate\n",
    "- Compare\n",
    "- Find the best prompt"
   ]
  },
  {
   "cell_type": "markdown",
   "metadata": {},
   "source": [
    "# Prompt Engineering Practical Case Study\n",
    "\n",
    "Now, let's take the concepts and ideas discussed in this lesson, and apply them to an actual problem. "
   ]
  }
 ],
 "metadata": {
  "language_info": {
   "name": "python"
  }
 },
 "nbformat": 4,
 "nbformat_minor": 2
}
