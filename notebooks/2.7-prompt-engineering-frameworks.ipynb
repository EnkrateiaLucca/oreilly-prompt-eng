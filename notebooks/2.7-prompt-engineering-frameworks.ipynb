{
 "cells": [
  {
   "cell_type": "markdown",
   "metadata": {},
   "source": [
    "# LangChain"
   ]
  },
  {
   "cell_type": "markdown",
   "metadata": {},
   "source": [
    "# Guidance"
   ]
  },
  {
   "cell_type": "code",
   "execution_count": null,
   "metadata": {},
   "outputs": [],
   "source": [
    "import guidance\n",
    "\n",
    "# !pip install -U guidance\n",
    "# !pip install -U llama-cpp-python\n",
    "# The Basics\n",
    "# !pip install -U guidance\n",
    "\n",
    "from guidance import models, gen, system, user, assistant\n",
    "\n",
    "gpt = models.OpenAIChat(\"gpt-3.5-turbo-0125\")\n",
    "\n",
    "# append text or generations to the model\n",
    "with system():\n",
    "    lm = gpt + \"You are a cat expert.\"\n",
    "\n",
    "with user():\n",
    "    lm += \"What are the smallest cats?\"\n",
    "\n",
    "with assistant():\n",
    "    lm += gen(\"answer\", stop=\".\")"
   ]
  }
 ],
 "metadata": {
  "kernelspec": {
   "display_name": "oreilly-prompt-eng",
   "language": "python",
   "name": "oreilly-prompt-eng"
  },
  "language_info": {
   "name": "python",
   "version": "3.10.14"
  }
 },
 "nbformat": 4,
 "nbformat_minor": 2
}
