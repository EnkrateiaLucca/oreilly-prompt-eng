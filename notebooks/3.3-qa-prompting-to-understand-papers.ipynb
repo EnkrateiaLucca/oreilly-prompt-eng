{
 "cells": [
  {
   "cell_type": "markdown",
   "metadata": {
    "vscode": {
     "languageId": "plaintext"
    }
   },
   "source": [
    "# Fun Use Case! \n",
    "\n",
    "__Understanding Papers with ChatGPT__\n",
    "\n",
    "- LLM outlines the background knowledge required to understand the paper as bullet points.\n",
    "- LLM quizzes the learner about the contents of the paper\n",
    "- Extracting citations\n",
    "- Extracting quotes from the paper to validate statements  \n",
    "- Paper summary in different formats\n",
    "- LLM provides opportunity for discussion about contents of the paper\n",
    "- LLM gives feedback on learner's understanding of the paper based on sections of the paper."
   ]
  },
  {
   "cell_type": "markdown",
   "metadata": {},
   "source": [
    "In this notebook we will employ some of the techniques and ideas we've learned and instead of doing a rigid experiment, per se, we will play around with these ideas to perform different actions with LLMs to try and better understand the contents of scientific papers."
   ]
  }
 ],
 "metadata": {
  "kernelspec": {
   "display_name": "oreilly-prompt-eng",
   "language": "python",
   "name": "oreilly-prompt-eng"
  },
  "language_info": {
   "name": "python",
   "version": "3.10.14"
  }
 },
 "nbformat": 4,
 "nbformat_minor": 2
}
