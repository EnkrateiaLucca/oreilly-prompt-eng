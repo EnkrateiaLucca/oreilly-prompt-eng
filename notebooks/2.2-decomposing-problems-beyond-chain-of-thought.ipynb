{
 "cells": [
  {
   "cell_type": "markdown",
   "metadata": {},
   "source": [
    "# Chain Of Thought Technique\n",
    "\n",
    "Chain-of-thought (CoT) enables complex reasoning capabilities through intermediate reasoning steps (Wei et al. 2022)."
   ]
  },
  {
   "cell_type": "code",
   "execution_count": 1,
   "metadata": {},
   "outputs": [],
   "source": [
    "prompt = \"\"\"Q: I have one sister and one brother. I am 20 years of age. My sister is 5 years older and my brother 2 years younger than my sister. How old is my brother? \n",
    "\n",
    "A: If I am 20 years of age and my sister is 5 years older, my sister is 20+5=25 years old. If my brother is 2 years younger than my sister, my brother is 25-2=23 years old. The answer is 23 years old. \n",
    "\n",
    "Q: I have 2 friends, Jack and Sally. Jack is 2 years older than Sally. Sally is 5 years younger than me. I am 17 years old. How old is Jack?\"\"\""
   ]
  },
  {
   "cell_type": "code",
   "execution_count": 2,
   "metadata": {},
   "outputs": [
    {
     "data": {
      "text/plain": [
       "\"If you are 17 years old, and Sally is 5 years younger than you, then Sally is \\\\( 17 - 5 = 12 \\\\) years old.\\n\\nSince Jack is 2 years older than Sally, Jack's age is \\\\( 12 + 2 = 14 \\\\) years old.\\n\\nThe answer is that Jack is 14 years old.\""
      ]
     },
     "execution_count": 2,
     "metadata": {},
     "output_type": "execute_result"
    }
   ],
   "source": [
    "from openai import OpenAI\n",
    "client = OpenAI()\n",
    "\n",
    "def get_response(prompt_question):\n",
    "    response = client.chat.completions.create(\n",
    "        model=\"gpt-4-turbo\",\n",
    "        messages=[{\"role\": \"system\", \"content\": \"You are a helpful math assistant\"},\n",
    "                  {\"role\": \"user\", \"content\": prompt_question}]\n",
    "    )\n",
    "    \n",
    "    return response.choices[0].message.content\n",
    "\n",
    "get_response(prompt)"
   ]
  },
  {
   "cell_type": "markdown",
   "metadata": {},
   "source": [
    "# Auto-CoT\n",
    "\n",
    "Sample questions with diversity and generates reasoning chains to construct demonstrations.\n",
    "\n",
    "Official example from the paper's [code base](https://github.com/amazon-science/auto-cot/blob/main/demos/multiarith_auto):\n",
    "\n",
    "```\n",
    "{\n",
    "    \"demo\": [\n",
    "        {\n",
    "            \"question\": \"Q: Wendy uploaded 45 pictures to Facebook. She put 27 pics into one album and put the rest into 9 different albums. How many pictures were in each album?\\nA:\",\n",
    "            \"rationale\": \"Let's think step by step. First, we know that Wendy uploaded 45 pictures in total. Second, we know that Wendy put 27 pictures into one album. That means that Wendy put the remaining 18 pictures into 9 different albums. That means that each album would have 2 pictures.\",\n",
    "            \"pred_ans\": \"2\",\n",
    "            \"gold_ans\": \"2\"\n",
    "        },\n",
    "        {\n",
    "            \"question\": \"Q: For Halloween Katie and her sister combined the candy they received. Katie had 8 pieces of candy while her sister had 23. If they ate 8 pieces the first night, how many pieces do they have left?\\nA:\",\n",
    "            \"rationale\": \"Let's think step by step. Katie and her sister have a total of 8 + 23 = 31 pieces of candy. If they eat 8 pieces the first night, they have 31 - 8 = 23 pieces left.\",\n",
    "            \"pred_ans\": \"23\",\n",
    "            \"gold_ans\": \"23\"\n",
    "        },\n",
    "        {\n",
    "            \"question\": \"Q: Bianca was organizing her book case making sure each of the shelves had exactly 8 books on it. If she had 5 shelves of mystery books and 4 shelves of picture books, how many books did she have total?\\nA:\",\n",
    "            \"rationale\": \"Let's think step by step. There are 5 shelves of mystery books. Each shelf has 8 books. So that's 40 mystery books. There are 4 shelves of picture books. Each shelf has 8 books. So that's 32 picture books. 40 + 32 = 72 books.\",\n",
    "            \"pred_ans\": \"72\",\n",
    "            \"gold_ans\": \"72\"\n",
    "        },\n",
    "        {\n",
    "            \"question\": \"Q: A pet store had 78 puppies. In one day they sold 30 of them and put the rest into cages with 8 in each cage. How many cages did they use?\\nA:\",\n",
    "            \"rationale\": \"Let's think step by step. There are 78 puppies. 30 are sold, so that means there are 48 left. 48 divided by 8 is 6, so that means there are 6 cages with 8 puppies in each.\",\n",
    "            \"pred_ans\": \"6\",\n",
    "            \"gold_ans\": \"6\"\n",
    "        },\n",
    "        {\n",
    "            \"question\": \"Q: A waiter had 14 customers to wait on. If 3 customers left and he got another 39 customers, how many customers would he have?\\nA:\",\n",
    "            \"rationale\": \"Let's think step by step. The waiter had 14 customers to wait on. If 3 customers left, that means he would have 11 customers left. If he got another 39 customers, that means he would have 50 customers in total.\",\n",
    "            \"pred_ans\": \"50\",\n",
    "            \"gold_ans\": \"50\"\n",
    "        },\n",
    "        {\n",
    "            \"question\": \"Q: A trivia team had 7 members total, but during a game 2 members didn't show up. If each member that did show up scored 4 points, how many points were scored total?\\nA:\",\n",
    "            \"rationale\": \"Let's think step by step. There were 7 members on the team, but 2 members didn't show up. That means that there were 5 members that did show up. Each member that showed up scored 4 points. So if 5 members each scored 4 points, then the total number of points scored would be 5*4=20.\",\n",
    "            \"pred_ans\": \"20\",\n",
    "            \"gold_ans\": \"20\"\n",
    "        },\n",
    "        {\n",
    "            \"question\": \"Q: Gwen had 18 math problems and 11 science problems for homework. If she finished 24 of the problems at school, how many problems did she have to do for homework?\\nA:\",\n",
    "            \"rationale\": \"Let's think step by step. Gwen had 18 math problems and 11 science problems for homework. That means she had a total of 29 problems for homework. If she finished 24 of the problems at school, that means she had 5 problems left to do for homework.\",\n",
    "            \"pred_ans\": \"5\",\n",
    "            \"gold_ans\": \"5\"\n",
    "        },\n",
    "        {\n",
    "            \"question\": \"Q: Mike made 69 dollars mowing lawns over the summer. If he spent 24 dollars buying new mower blades, how many 5 dollar games could he buy with the money he had left?\\nA:\",\n",
    "            \"rationale\": \"Let's think step by step. Mike made $69 from mowing lawns. He spent $24 on new mower blades. That means he has $45 left. Each game costs $5, so he could buy 9 games.\",\n",
    "            \"pred_ans\": \"9\",\n",
    "            \"gold_ans\": \"9\"\n",
    "        }\n",
    "    ]\n",
    "}\n",
    "```"
   ]
  },
  {
   "cell_type": "code",
   "execution_count": null,
   "metadata": {},
   "outputs": [],
   "source": []
  },
  {
   "cell_type": "markdown",
   "metadata": {},
   "source": []
  }
 ],
 "metadata": {
  "kernelspec": {
   "display_name": "oreilly-prompt-eng",
   "language": "python",
   "name": "oreilly-prompt-eng"
  },
  "language_info": {
   "codemirror_mode": {
    "name": "ipython",
    "version": 3
   },
   "file_extension": ".py",
   "mimetype": "text/x-python",
   "name": "python",
   "nbconvert_exporter": "python",
   "pygments_lexer": "ipython3",
   "version": "3.10.14"
  }
 },
 "nbformat": 4,
 "nbformat_minor": 2
}
