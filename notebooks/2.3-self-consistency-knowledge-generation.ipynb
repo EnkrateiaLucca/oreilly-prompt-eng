{
 "cells": [
  {
   "cell_type": "markdown",
   "metadata": {},
   "source": [
    "# Prompt Engineering Guide"
   ]
  },
  {
   "cell_type": "markdown",
   "metadata": {},
   "source": [
    "The basic goal of prompt engineering is designing appropriate inputs for prompting methods."
   ]
  },
  {
   "cell_type": "markdown",
   "metadata": {},
   "source": [
    "- Zero Shot Prompting\n",
    "\n",
    "- Few-shot Prompting\n",
    "\n",
    "- Chain-of-Thought (CoT)\n",
    "\n",
    "- Self-Consistency\n",
    "\n",
    "- Knowledge Generation\n",
    "\n",
    "- Tree of Thoughts (ToT) "
   ]
  },
  {
   "cell_type": "code",
   "execution_count": null,
   "metadata": {},
   "outputs": [],
   "source": [
    "document = \"\"\"\n",
    "this is a personal document\n",
    "\"\"\""
   ]
  },
  {
   "cell_type": "code",
   "execution_count": null,
   "metadata": {},
   "outputs": [],
   "source": [
    "\n",
    "\n",
    "# Example usage of Self-Consistency\n",
    "question = \"What are the health benefits of drinking green tea?\"\n",
    "# write this funciton as a chatgpt call but set n to X and then use chatgpt again to select the most common answer.\n",
    "consistent_answer = self_consistency(question)\n",
    "print(\"Self-Consistency Answer:\", consistent_answer)\n",
    "\n",
    "from openai import OpenAI\n",
    "client = OpenAI()\n",
    "\n",
    "def generate_knowledge(question):\n",
    "    # Generate background knowledge-based facts by prompting the model\n",
    "    knowledge_response = client.chat.completions.create(\n",
    "        model=\"gpt-3.5-turbo-0125\",\n",
    "        messages=[\n",
    "            {\"role\": \"system\", \"content\": \"You are an AI trained to generate facts about background knowledge.\"},\n",
    "            {\"role\": \"user\", \"content\": f\"Generate facts about the background knowledge for this question: {question}\"}\n",
    "        ]\n",
    "    )\n",
    "    knowledge = knowledge_response.choices[0].message.content\n",
    "    \n",
    "    # Use the generated knowledge to enhance the answer to the original question\n",
    "    enhanced_answer_response = client.chat.completions.create(\n",
    "        model=\"gpt-3.5-turbo-0125\",\n",
    "        messages=[\n",
    "            {\"role\": \"system\", \"content\": \"You are an AI trained to answer questions using provided knowledge.\"},\n",
    "            {\"role\": \"user\", \"content\": f\"Given the knowledge: {knowledge}, answer the question: {question}\"}\n",
    "        ]\n",
    "    )\n",
    "    enhanced_answer = enhanced_answer_response.choices[0].message.content\n",
    "    \n",
    "    return knowledge, enhanced_answer\n",
    "\n",
    "# Example usage\n",
    "question = \"Why do leaves change color in autumn?\"\n",
    "knowledge, answer = generate_knowledge(question)\n",
    "print(\"Generated Knowledge:\", knowledge)\n",
    "print(\"Enhanced Answer:\", answer)\n"
   ]
  }
 ],
 "metadata": {
  "kernelspec": {
   "display_name": "oreilly-prompt-eng",
   "language": "python",
   "name": "oreilly-prompt-eng"
  },
  "language_info": {
   "codemirror_mode": {
    "name": "ipython",
    "version": 3
   },
   "file_extension": ".py",
   "mimetype": "text/x-python",
   "name": "python",
   "nbconvert_exporter": "python",
   "pygments_lexer": "ipython3",
   "version": "3.10.14"
  }
 },
 "nbformat": 4,
 "nbformat_minor": 2
}
