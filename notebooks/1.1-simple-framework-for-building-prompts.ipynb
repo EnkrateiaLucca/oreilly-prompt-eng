{
 "cells": [
  {
   "cell_type": "markdown",
   "metadata": {},
   "source": [
    "1. Define your task clearly\n",
    "2. Define the eval metric\n",
    "3. Generate candidates that derive from your baseline prompt\n",
    "4. Experiment: test, evaluate, compare and find best candidate\n",
    "(you can use google sheets!)\n",
    "5. Learning when to stop experimenting (a function of token/cost, available time/urgency/priority/, ?)"
   ]
  },
  {
   "cell_type": "markdown",
   "metadata": {},
   "source": []
  },
  {
   "cell_type": "markdown",
   "metadata": {},
   "source": []
  }
 ],
 "metadata": {
  "language_info": {
   "name": "python"
  }
 },
 "nbformat": 4,
 "nbformat_minor": 2
}
