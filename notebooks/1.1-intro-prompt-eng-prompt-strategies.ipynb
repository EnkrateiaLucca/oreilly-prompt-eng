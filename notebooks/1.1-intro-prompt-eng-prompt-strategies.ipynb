{
 "cells": [
  {
   "cell_type": "markdown",
   "metadata": {},
   "source": [
    "# Prompt Engineering Strategies\n",
    "\n",
    "- Strategy 1: Write clear instructions\n",
    "- Strategy 2: Provide reference text\n",
    "- Strategy 3: Break tasks into subtasks\n",
    "- Strategy 4: Give the model time to think\n",
    "- Strategy 5: Use external tools\n",
    "- Strategy 6: Test changes systematically"
   ]
  },
  {
   "cell_type": "code",
   "execution_count": null,
   "metadata": {},
   "outputs": [],
   "source": [
    "clear_instructions_prompt = \"\""
   ]
  },
  {
   "cell_type": "code",
   "execution_count": null,
   "metadata": {},
   "outputs": [],
   "source": [
    "reference_text_prompt = \"\""
   ]
  },
  {
   "cell_type": "code",
   "execution_count": null,
   "metadata": {},
   "outputs": [],
   "source": [
    "task_breakdown_prompt = \"\"\"The following is a paper explaining this architecture named 'Transformer':\n",
    "'''\n",
    "'''\n",
    "1. Break this paper down into its main sections.\n",
    "2. Summarize each section in one sentence.\n",
    "3. Write a pargraph combining these summarizations\n",
    "4. Your output should be both the paragraph summary and the bullet points section summary.\n",
    "\"\"\""
   ]
  },
  {
   "cell_type": "code",
   "execution_count": null,
   "metadata": {},
   "outputs": [],
   "source": [
    "time_to_think_prompt = \"\""
   ]
  },
  {
   "cell_type": "code",
   "execution_count": null,
   "metadata": {},
   "outputs": [],
   "source": [
    "external_tools_prompt = \"\""
   ]
  },
  {
   "cell_type": "code",
   "execution_count": null,
   "metadata": {},
   "outputs": [],
   "source": [
    "test_changes_systematically_prompt = \"\""
   ]
  },
  {
   "cell_type": "markdown",
   "metadata": {},
   "source": [
    "# Why Is Prompting Hard?\n",
    "\n",
    "1. People don't know what they want\n",
    "2. People know what they want but can't explain it well to the model\n",
    "3. People know what they want but don't know how to get the best performance from the model\n",
    "\n",
    "[Principles for Prompt Engineering by Karina Nguyen](https://youtu.be/6d60zVdcCV4?list=PLcfpQ4tk2k0U3Nr2KKWJsVnjF5S9bTXY-&t=126)"
   ]
  },
  {
   "cell_type": "markdown",
   "metadata": {},
   "source": [
    "# How do We Solve This?\n",
    "\n",
    "1. Figure out what you want -> define the task clearly\n",
    "\n",
    "2. Stablish a metric to score the output performance on your tasks\n",
    "\n",
    "3. Experimentation (this is where prompt engineering comes alive)"
   ]
  },
  {
   "cell_type": "markdown",
   "metadata": {},
   "source": [
    "# Final notes\n",
    "\n",
    "Prompt Engineering is a trial-and-error process that also relies on your intuition.\n",
    "\n",
    "\n",
    "Build domain understanding - use your domain expertise to customize prompt for relevance.\n",
    "\n",
    "\n",
    "Build model understanding - adapt prompt to suit model strengths & weaknesses to improve quality.\n",
    "\n",
    "Iterate & Validate - define acceptance or termination criteria so you iterate to meet expectations but don't over-engineer the prompt to reduce reusability"
   ]
  },
  {
   "cell_type": "markdown",
   "metadata": {},
   "source": [
    "# References\n",
    "\n",
    "- [A Prompt Pattern Catalog to Enhance Prompt Engineering with ChatGPT](https://ar5iv.labs.arxiv.org/html/2302.11382)\n",
    "- [Prompt-Engineering-Guide](https://github.com/dair-ai/Prompt-Engineering-Guide)\n",
    "- [A Survey of Large Language Models](https://arxiv.org/pdf/2303.18223.pdf)\n",
    "- [Pre-train, Prompt, and Predict: A Systematic Survey of Prompting Methods in Natural Language Processing](https://arxiv.org/pdf/2107.13586.pdf)\n",
    "- [prompt engineering guide - zero shot prompting example](https://www.promptingguide.ai/techniques/zeroshot)\n",
    "- [Finetuned language models are zero-shot learners](https://arxiv.org/pdf/2109.01652.pdf)\n",
    "- [prompt engineering guide - few shot prompting](https://www.promptingguide.ai/techniques/fewshot)\n",
    "- [prompt engineering guide - chain of thought prompting](https://www.promptingguide.ai/techniques/cot)\n",
    "- [Wei et al. (2022)](https://arxiv.org/abs/2201.11903)\n",
    "- [prompt engineering guide - self-consistency](https://www.promptingguide.ai/techniques/consistency)\n",
    "- [prompt engineering guide - generate knowledge](https://www.promptingguide.ai/techniques/knowledge)\n",
    "- [Liu et al. 2022](https://arxiv.org/pdf/2110.08387.pdf)\n",
    "- [prompt engineering guide - tree of thoughts (ToT)](https://www.promptingguide.ai/techniques/tot)\n",
    "- [Prompt Engineering by Lilian Weng](https://lilianweng.github.io/posts/2023-03-15-prompt-engineering/)\n",
    "- [Prompt Engineering vs. Blind Prompting](https://mitchellh.com/writing/prompt-engineering-vs-blind-prompting#the-demonstration-set)"
   ]
  }
 ],
 "metadata": {
  "language_info": {
   "name": "python"
  }
 },
 "nbformat": 4,
 "nbformat_minor": 2
}
